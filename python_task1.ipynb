{
 "cells": [
  {
   "cell_type": "code",
   "execution_count": 26,
   "id": "ae87050e",
   "metadata": {},
   "outputs": [
    {
     "name": "stdout",
     "output_type": "stream",
     "text": [
      "Q1 Product after flattening list: 0\n",
      "Q2 Encrypted Message: r$dzmg$gl$yvxlnv$z$wzgz$hxrvmgrhg.\n"
     ]
    }
   ],
   "source": [
    "# Q1:\n",
    "def flatten_and_product(lst):\n",
    "    flat_list = []\n",
    "    for item in lst:\n",
    "        if isinstance(item, (list, tuple, set)):\n",
    "            flat_list.extend(item)\n",
    "        elif isinstance(item, dict):\n",
    "            for value in item.values():\n",
    "                if isinstance(value, (list, tuple, set)):\n",
    "                    flat_list.extend(value)\n",
    "                elif isinstance(value, int) or isinstance(value, float):\n",
    "                    flat_list.append(value)\n",
    "        elif isinstance(item, (int, float)):\n",
    "            flat_list.append(item)\n",
    "    \n",
    "    product = 1\n",
    "    for num in flat_list:\n",
    "        if isinstance(num, (int, float)):\n",
    "            product *= num\n",
    "    \n",
    "    return product\n",
    "\n",
    "# Test the function\n",
    "list1 = [1,2,3,4, [44,55,66, True], False, (34,56,78,89,34), {1,2,3,3,2,1}, {1:34, \"key2\": [55, 67, 78, 89], 4: (45, 22, 61, 34)}, [56, 'data science'], 'Machine Learning']\n",
    "result = flatten_and_product(list1)\n",
    "print(\"Q1 Product after flattening list:\", result)\n",
    "\n",
    "# Q2:\n",
    "def encrypt_message(message):\n",
    "    encrypted_message = \"\"\n",
    "    for char in message:\n",
    "        if char.isalpha():\n",
    "            encrypted_char = chr(219 - ord(char))\n",
    "            encrypted_message += encrypted_char\n",
    "        elif char == ' ':\n",
    "            encrypted_message += '$'\n",
    "        else:\n",
    "            encrypted_message += char\n",
    "    return encrypted_message\n",
    "\n",
    "# Test the function\n",
    "input_sentence = \"I want to become a Data Scientist.\"\n",
    "input_sentence = input_sentence.lower()\n",
    "encrypted_sentence = encrypt_message(input_sentence)\n",
    "print(\"Q2 Encrypted Message:\", encrypted_sentence)\n"
   ]
  },
  {
   "cell_type": "markdown",
   "id": "50c2c1e0",
   "metadata": {},
   "source": [
    "Explanation:\n",
    "\n",
    "Q1: The function flatten_and_product takes a list as input, flattens it to a single level, extracts numeric values, and then calculates the product of all the numbers. It handles nested lists, tuples, sets, and dictionaries to extract numeric values.\n",
    "Q2: The function encrypt_message encrypts the input message according to the given logic. It converts alphabets to their respective encrypted characters and replaces whitespace with '$'. Punctuation marks remain unchanged."
   ]
  },
  {
   "cell_type": "code",
   "execution_count": null,
   "id": "1e8da327",
   "metadata": {},
   "outputs": [],
   "source": []
  }
 ],
 "metadata": {
  "kernelspec": {
   "display_name": "Python 3 (ipykernel)",
   "language": "python",
   "name": "python3"
  },
  "language_info": {
   "codemirror_mode": {
    "name": "ipython",
    "version": 3
   },
   "file_extension": ".py",
   "mimetype": "text/x-python",
   "name": "python",
   "nbconvert_exporter": "python",
   "pygments_lexer": "ipython3",
   "version": "3.9.12"
  }
 },
 "nbformat": 4,
 "nbformat_minor": 5
}
